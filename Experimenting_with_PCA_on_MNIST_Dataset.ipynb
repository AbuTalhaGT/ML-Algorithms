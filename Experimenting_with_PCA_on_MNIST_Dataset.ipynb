{
  "nbformat": 4,
  "nbformat_minor": 0,
  "metadata": {
    "colab": {
      "provenance": [],
      "gpuType": "T4",
      "authorship_tag": "ABX9TyMyZws5jOA+MQXFBUjYfzQH",
      "include_colab_link": true
    },
    "kernelspec": {
      "name": "python3",
      "display_name": "Python 3"
    },
    "language_info": {
      "name": "python"
    },
    "accelerator": "GPU"
  },
  "cells": [
    {
      "cell_type": "markdown",
      "metadata": {
        "id": "view-in-github",
        "colab_type": "text"
      },
      "source": [
        "<a href=\"https://colab.research.google.com/github/AbuTalhaGT/ML-Algorithms/blob/main/Experimenting_with_PCA_on_MNIST_Dataset.ipynb\" target=\"_parent\"><img src=\"https://colab.research.google.com/assets/colab-badge.svg\" alt=\"Open In Colab\"/></a>"
      ]
    },
    {
      "cell_type": "markdown",
      "source": [
        "### 1. Fit PCA and Transform Data\n"
      ],
      "metadata": {
        "id": "weKC5LxuHX6c"
      }
    },
    {
      "cell_type": "code",
      "execution_count": 20,
      "metadata": {
        "id": "KOltPj35G6We"
      },
      "outputs": [],
      "source": [
        "import numpy as np\n",
        "import pandas as pd\n",
        "from sklearn.decomposition import PCA\n",
        "from sklearn.preprocessing import StandardScaler\n",
        "from sklearn.pipeline import Pipeline\n",
        "from sklearn.model_selection import train_test_split\n",
        "import torchvision.transforms as transforms\n",
        "import torchvision.datasets as datasets\n",
        "\n",
        "# Load MNIST dataset\n",
        "transform = transforms.Compose([\n",
        "    transforms.ToTensor(),\n",
        "    transforms.Lambda(lambda x: x.view(-1))  # Flatten images to 1D vectors\n",
        "])\n",
        "mnist = datasets.MNIST(root='./data', train=True, download=True, transform=transform)\n",
        "\n",
        "# Convert dataset to numpy arrays\n",
        "images_np = mnist.data.numpy().reshape(-1, 28*28)\n",
        "labels_np = np.array(mnist.targets)\n",
        "\n",
        "# Split data into training and testing\n",
        "X_train, X_test, y_train, y_test = train_test_split(images_np, labels_np, test_size=0.3, random_state=42)\n",
        "\n",
        "# Define PCA pipeline\n",
        "pipeline = Pipeline([\n",
        "    ('scaler', StandardScaler()),  # Standardize features\n",
        "    ('pca', PCA(n_components=60))  # Apply PCA and reduce to # of components\n",
        "])\n",
        "\n",
        "# Fit PCA on training data and transform both training and testing data\n",
        "pipeline.fit(X_train)\n",
        "X_train_pca = pipeline.transform(X_train)\n",
        "X_test_pca = pipeline.transform(X_test)\n",
        "\n",
        "# Create DataFrames from the PCA-transformed data\n",
        "df_train_pca = pd.DataFrame(X_train_pca, columns=[f'PC{i+1}' for i in range(X_train_pca.shape[1])])\n",
        "df_test_pca = pd.DataFrame(X_test_pca, columns=[f'PC{i+1}' for i in range(X_test_pca.shape[1])])\n",
        "\n",
        "# Add labels to DataFrames\n",
        "df_train_pca['Label'] = y_train\n",
        "df_test_pca['Label'] = y_test\n",
        "\n",
        "# Optional: Save DataFrames to CSV files\n",
        "df_train_pca.to_csv('train_pca_data.csv', index=False)\n",
        "df_test_pca.to_csv('test_pca_data.csv', index=False)\n"
      ]
    },
    {
      "cell_type": "markdown",
      "source": [
        "### 2. Use DataFrames for Deep Learning\n",
        "Once you have your PCA-transformed data in DataFrames, you can use them as inputs to your deep learning models. If you’re using a deep learning framework like PyTorch or TensorFlow, you’ll need to convert these DataFrames back to tensors or appropriate data structures.\n"
      ],
      "metadata": {
        "id": "402VKXySHg9R"
      }
    },
    {
      "cell_type": "code",
      "source": [
        "import torch\n",
        "from torch.utils.data import TensorDataset, DataLoader\n",
        "\n",
        "# Convert DataFrame to tensors\n",
        "X_train_tensor = torch.tensor(df_train_pca.drop(columns=['Label']).values, dtype=torch.float32)\n",
        "y_train_tensor = torch.tensor(df_train_pca['Label'].values, dtype=torch.long)\n",
        "\n",
        "X_test_tensor = torch.tensor(df_test_pca.drop(columns=['Label']).values, dtype=torch.float32)\n",
        "y_test_tensor = torch.tensor(df_test_pca['Label'].values, dtype=torch.long)\n",
        "\n",
        "# Create datasets and dataloaders\n",
        "train_dataset = TensorDataset(X_train_tensor, y_train_tensor)\n",
        "test_dataset = TensorDataset(X_test_tensor, y_test_tensor)\n",
        "\n",
        "train_loader = DataLoader(train_dataset, batch_size=64, shuffle=True)\n",
        "test_loader = DataLoader(test_dataset, batch_size=64, shuffle=False)"
      ],
      "metadata": {
        "id": "rrfrr20vHR0R"
      },
      "execution_count": 21,
      "outputs": []
    },
    {
      "cell_type": "markdown",
      "source": [
        "### Define the Deep Learning Model\n"
      ],
      "metadata": {
        "id": "1BtWXXKKIIhO"
      }
    },
    {
      "cell_type": "code",
      "source": [
        "import torch.nn as nn\n",
        "import torch.optim as optim\n",
        "\n",
        "class DeepNN(nn.Module):\n",
        "    def __init__(self, input_dim, hidden_dim1, hidden_dim2, hidden_dim3, output_dim):\n",
        "        super(DeepNN, self).__init__()\n",
        "        self.fc1 = nn.Linear(input_dim, hidden_dim1)\n",
        "        self.fc2 = nn.Linear(hidden_dim1, hidden_dim2)\n",
        "        self.fc3 = nn.Linear(hidden_dim2, hidden_dim3)\n",
        "        self.fc4 = nn.Linear(hidden_dim3, output_dim)\n",
        "        self.relu = nn.ReLU()\n",
        "        self.softmax = nn.Softmax(dim=1)\n",
        "\n",
        "    def forward(self, x):\n",
        "        x = self.relu(self.fc1(x))\n",
        "        x = self.relu(self.fc2(x))\n",
        "        x = self.relu(self.fc3(x))\n",
        "        x = self.fc4(x)\n",
        "        return x\n",
        "\n",
        "# Define model parameters\n",
        "input_dim = X_train_tensor.shape[1]  # Number of PCA components\n",
        "hidden_dim1 = 128\n",
        "hidden_dim2 = 64\n",
        "hidden_dim3 = 32\n",
        "output_dim = 10  # Number of classes (digits 0-9)\n",
        "\n",
        "model = DeepNN(input_dim, hidden_dim1, hidden_dim2, hidden_dim3, output_dim)"
      ],
      "metadata": {
        "id": "ZZnHI4iUHsqh"
      },
      "execution_count": 22,
      "outputs": []
    },
    {
      "cell_type": "markdown",
      "source": [
        "### Train the model"
      ],
      "metadata": {
        "id": "elrxjYmmIbnr"
      }
    },
    {
      "cell_type": "code",
      "source": [
        "def train_model(model, train_loader, criterion, optimizer, num_epochs=10):\n",
        "    model.train()\n",
        "    for epoch in range(num_epochs):\n",
        "        running_loss = 0.0\n",
        "        for inputs, labels in train_loader:\n",
        "            optimizer.zero_grad()\n",
        "            outputs = model(inputs)\n",
        "            loss = criterion(outputs, labels)\n",
        "            loss.backward()\n",
        "            optimizer.step()\n",
        "            running_loss += loss.item()\n",
        "        print(f'Epoch [{epoch+1}/{num_epochs}], Loss: {running_loss/len(train_loader)}')\n",
        "\n",
        "# Define loss function and optimizer\n",
        "criterion = nn.CrossEntropyLoss()\n",
        "optimizer = optim.Adam(model.parameters(), lr=0.001)\n",
        "\n",
        "# Train the model\n",
        "train_model(model, train_loader, criterion, optimizer, num_epochs=25)"
      ],
      "metadata": {
        "colab": {
          "base_uri": "https://localhost:8080/"
        },
        "id": "T4nQxTDbIXC6",
        "outputId": "60da6995-fbb1-4060-93eb-a3be75d189c3"
      },
      "execution_count": 23,
      "outputs": [
        {
          "output_type": "stream",
          "name": "stdout",
          "text": [
            "Epoch [1/25], Loss: 0.3972658769396251\n",
            "Epoch [2/25], Loss: 0.1551111353705871\n",
            "Epoch [3/25], Loss: 0.11958030009815183\n",
            "Epoch [4/25], Loss: 0.10073584007720153\n",
            "Epoch [5/25], Loss: 0.08107863050209332\n",
            "Epoch [6/25], Loss: 0.06815734269952223\n",
            "Epoch [7/25], Loss: 0.06569376868859239\n",
            "Epoch [8/25], Loss: 0.05621995456067383\n",
            "Epoch [9/25], Loss: 0.04880789893677903\n",
            "Epoch [10/25], Loss: 0.04561415903466574\n",
            "Epoch [11/25], Loss: 0.04474029924842434\n",
            "Epoch [12/25], Loss: 0.038772126180002864\n",
            "Epoch [13/25], Loss: 0.03296206616171064\n",
            "Epoch [14/25], Loss: 0.03520423229498494\n",
            "Epoch [15/25], Loss: 0.02885501035968447\n",
            "Epoch [16/25], Loss: 0.02877518596677634\n",
            "Epoch [17/25], Loss: 0.027589902391133098\n",
            "Epoch [18/25], Loss: 0.026499253755203313\n",
            "Epoch [19/25], Loss: 0.029269067574033455\n",
            "Epoch [20/25], Loss: 0.021478017573826946\n",
            "Epoch [21/25], Loss: 0.019192806706011003\n",
            "Epoch [22/25], Loss: 0.01797615488713016\n",
            "Epoch [23/25], Loss: 0.021453896987469353\n",
            "Epoch [24/25], Loss: 0.020148259046390896\n",
            "Epoch [25/25], Loss: 0.01328398089262891\n"
          ]
        }
      ]
    },
    {
      "cell_type": "markdown",
      "source": [
        "### Evaluate the model"
      ],
      "metadata": {
        "id": "U8YBNUqPIkiY"
      }
    },
    {
      "cell_type": "markdown",
      "source": [],
      "metadata": {
        "id": "KZegva_XIkdF"
      }
    },
    {
      "cell_type": "code",
      "source": [
        "def evaluate_model(model, test_loader):\n",
        "    model.eval()\n",
        "    correct = 0\n",
        "    total = 0\n",
        "    with torch.no_grad():\n",
        "        for inputs, labels in test_loader:\n",
        "            outputs = model(inputs)\n",
        "            _, predicted = torch.max(outputs.data, 1)\n",
        "            total += labels.size(0)\n",
        "            correct += (predicted == labels).sum().item()\n",
        "    accuracy = 100 * correct / total\n",
        "    return accuracy\n",
        "\n",
        "# Evaluate the model\n",
        "accuracy = evaluate_model(model, test_loader)\n",
        "print(f'Test Accuracy: {accuracy:.2f}%')"
      ],
      "metadata": {
        "colab": {
          "base_uri": "https://localhost:8080/"
        },
        "id": "C0c2jHpOIgdF",
        "outputId": "0db0fc40-e405-4e3a-a9d8-81e4f4c68694"
      },
      "execution_count": 24,
      "outputs": [
        {
          "output_type": "stream",
          "name": "stdout",
          "text": [
            "Test Accuracy: 97.11%\n"
          ]
        }
      ]
    },
    {
      "cell_type": "markdown",
      "source": [
        "\n",
        "\n",
        "---\n",
        "\n"
      ],
      "metadata": {
        "id": "5bVpzuy-Jmc2"
      }
    },
    {
      "cell_type": "markdown",
      "source": [
        "Applying Simple Deep Learning Model on MNIST Dataset"
      ],
      "metadata": {
        "id": "TA1T6I4vJsCa"
      }
    },
    {
      "cell_type": "code",
      "source": [
        "import torch\n",
        "import torchvision.transforms as transforms\n",
        "import torchvision.datasets as datasets\n",
        "from torch.utils.data import DataLoader\n",
        "\n",
        "# Define transformations (convert to tensor and normalize)\n",
        "transform = transforms.Compose([\n",
        "    transforms.ToTensor(),  # Convert images to PyTorch tensors\n",
        "    transforms.Normalize((0.5,), (0.5,))  # Normalize to [-1, 1] for better training\n",
        "])\n",
        "\n",
        "# Load MNIST dataset\n",
        "train_dataset = datasets.MNIST(root='./data', train=True, download=True, transform=transform)\n",
        "test_dataset = datasets.MNIST(root='./data', train=False, download=True, transform=transform)\n",
        "\n",
        "# Create DataLoaders\n",
        "train_loader = DataLoader(train_dataset, batch_size=64, shuffle=True)\n",
        "test_loader = DataLoader(test_dataset, batch_size=64, shuffle=False)"
      ],
      "metadata": {
        "id": "n1rdSl6JJpeT"
      },
      "execution_count": 6,
      "outputs": []
    },
    {
      "cell_type": "code",
      "source": [
        "import torch.nn as nn\n",
        "import torch.optim as optim\n",
        "\n",
        "class DeepNN(nn.Module):\n",
        "    def __init__(self, input_dim, hidden_dim1, hidden_dim2, hidden_dim3, output_dim):\n",
        "        super(DeepNN, self).__init__()\n",
        "        self.fc1 = nn.Linear(input_dim, hidden_dim1)\n",
        "        self.fc2 = nn.Linear(hidden_dim1, hidden_dim2)\n",
        "        self.fc3 = nn.Linear(hidden_dim2, hidden_dim3)\n",
        "        self.fc4 = nn.Linear(hidden_dim3, output_dim)\n",
        "        self.relu = nn.ReLU()\n",
        "        self.softmax = nn.Softmax(dim=1)\n",
        "\n",
        "    def forward(self, x):\n",
        "        x = x.view(-1, 28*28)  # Flatten the input images\n",
        "        x = self.relu(self.fc1(x))\n",
        "        x = self.relu(self.fc2(x))\n",
        "        x = self.relu(self.fc3(x))\n",
        "        x = self.fc4(x)\n",
        "        return x\n",
        "\n",
        "# Define model parameters\n",
        "input_dim = 28 * 28  # Flattened image size\n",
        "hidden_dim1 = 128\n",
        "hidden_dim2 = 64\n",
        "hidden_dim3 = 32\n",
        "output_dim = 10  # Number of classes (digits 0-9)\n",
        "\n",
        "model = DeepNN(input_dim, hidden_dim1, hidden_dim2, hidden_dim3, output_dim)"
      ],
      "metadata": {
        "id": "_QAcmJoaJ6cV"
      },
      "execution_count": 7,
      "outputs": []
    },
    {
      "cell_type": "code",
      "source": [
        "def train_model(model, train_loader, criterion, optimizer, num_epochs=10):\n",
        "    model.train()\n",
        "    for epoch in range(num_epochs):\n",
        "        running_loss = 0.0\n",
        "        for inputs, labels in train_loader:\n",
        "            optimizer.zero_grad()\n",
        "            outputs = model(inputs)\n",
        "            loss = criterion(outputs, labels)\n",
        "            loss.backward()\n",
        "            optimizer.step()\n",
        "            running_loss += loss.item()\n",
        "        print(f'Epoch [{epoch+1}/{num_epochs}], Loss: {running_loss/len(train_loader)}')\n",
        "\n",
        "# Define loss function and optimizer\n",
        "criterion = nn.CrossEntropyLoss()\n",
        "optimizer = optim.Adam(model.parameters(), lr=0.001)\n",
        "\n",
        "# Train the model\n",
        "train_model(model, train_loader, criterion, optimizer, num_epochs=25)"
      ],
      "metadata": {
        "colab": {
          "base_uri": "https://localhost:8080/"
        },
        "id": "eb-KImvrJ-E_",
        "outputId": "7389d6d5-548f-4611-888b-596e0774d0b6"
      },
      "execution_count": 8,
      "outputs": [
        {
          "output_type": "stream",
          "name": "stdout",
          "text": [
            "Epoch [1/25], Loss: 0.4627984726845201\n",
            "Epoch [2/25], Loss: 0.21199782742564677\n",
            "Epoch [3/25], Loss: 0.15271694261405958\n",
            "Epoch [4/25], Loss: 0.12340187979862094\n",
            "Epoch [5/25], Loss: 0.10611165773425339\n",
            "Epoch [6/25], Loss: 0.0916575995680473\n",
            "Epoch [7/25], Loss: 0.0841807268194056\n",
            "Epoch [8/25], Loss: 0.0727729064880062\n",
            "Epoch [9/25], Loss: 0.06491103728956132\n",
            "Epoch [10/25], Loss: 0.061204470721741656\n",
            "Epoch [11/25], Loss: 0.056300457707531296\n",
            "Epoch [12/25], Loss: 0.051989550558368125\n",
            "Epoch [13/25], Loss: 0.04763239871720219\n",
            "Epoch [14/25], Loss: 0.047648696751241434\n",
            "Epoch [15/25], Loss: 0.040439538541187876\n",
            "Epoch [16/25], Loss: 0.03959544482490749\n",
            "Epoch [17/25], Loss: 0.0374382527348442\n",
            "Epoch [18/25], Loss: 0.03460833887356882\n",
            "Epoch [19/25], Loss: 0.03507349035478751\n",
            "Epoch [20/25], Loss: 0.03248244476463233\n",
            "Epoch [21/25], Loss: 0.0307590881311393\n",
            "Epoch [22/25], Loss: 0.03156687504432446\n",
            "Epoch [23/25], Loss: 0.026763104485238776\n",
            "Epoch [24/25], Loss: 0.027490515014730894\n",
            "Epoch [25/25], Loss: 0.025922111757628336\n"
          ]
        }
      ]
    },
    {
      "cell_type": "code",
      "source": [
        "def evaluate_model(model, test_loader):\n",
        "    model.eval()\n",
        "    correct = 0\n",
        "    total = 0\n",
        "    with torch.no_grad():\n",
        "        for inputs, labels in test_loader:\n",
        "            outputs = model(inputs)\n",
        "            _, predicted = torch.max(outputs.data, 1)\n",
        "            total += labels.size(0)\n",
        "            correct += (predicted == labels).sum().item()\n",
        "    accuracy = 100 * correct / total\n",
        "    return accuracy\n",
        "\n",
        "# Evaluate the model\n",
        "accuracy = evaluate_model(model, test_loader)\n",
        "print(f'Test Accuracy: {accuracy:.2f}%')"
      ],
      "metadata": {
        "colab": {
          "base_uri": "https://localhost:8080/"
        },
        "id": "vPcJZDHQKCis",
        "outputId": "11d46e40-bcc0-450a-f732-633e05867d71"
      },
      "execution_count": 9,
      "outputs": [
        {
          "output_type": "stream",
          "name": "stdout",
          "text": [
            "Test Accuracy: 97.32%\n"
          ]
        }
      ]
    },
    {
      "cell_type": "code",
      "source": [],
      "metadata": {
        "id": "U1Ebjmq-K15u"
      },
      "execution_count": 9,
      "outputs": []
    }
  ]
}